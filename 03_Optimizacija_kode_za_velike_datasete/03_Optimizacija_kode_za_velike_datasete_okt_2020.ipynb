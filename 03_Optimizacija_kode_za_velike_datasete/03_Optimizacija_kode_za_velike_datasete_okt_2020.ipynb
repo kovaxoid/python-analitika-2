{
 "cells": [
  {
   "cell_type": "markdown",
   "metadata": {},
   "source": [
    "# Del 3: Optimizacija kode za velike datasete"
   ]
  },
  {
   "cell_type": "markdown",
   "metadata": {},
   "source": [
    "Pripravimo datasete:"
   ]
  },
  {
   "cell_type": "code",
   "execution_count": 3,
   "metadata": {},
   "outputs": [],
   "source": [
    "!tar -xJf data/data_del_06.tar.xz -C ./data/"
   ]
  },
  {
   "cell_type": "code",
   "execution_count": 1,
   "metadata": {},
   "outputs": [],
   "source": [
    "import pandas as pd\n",
    "import numpy as np"
   ]
  },
  {
   "cell_type": "markdown",
   "metadata": {},
   "source": [
    "## CPU Bound Programs\n",
    "\n",
    "### Bounds vs Limitations"
   ]
  },
  {
   "cell_type": "markdown",
   "metadata": {},
   "source": [
    "<img alt=\"I/O bounds\" src=\"images/CPU+and+I_O+bounds.png\">"
   ]
  },
  {
   "cell_type": "markdown",
   "metadata": {},
   "source": [
    "### Primer optimizacije"
   ]
  },
  {
   "cell_type": "code",
   "execution_count": 4,
   "metadata": {},
   "outputs": [],
   "source": [
    "df = pd.read_csv('data/new_york_hotels.csv')"
   ]
  },
  {
   "cell_type": "code",
   "execution_count": 13,
   "metadata": {},
   "outputs": [
    {
     "name": "stdout",
     "output_type": "stream",
     "text": [
      "<class 'pandas.core.frame.DataFrame'>\n",
      "RangeIndex: 1631 entries, 0 to 1630\n",
      "Data columns (total 12 columns):\n",
      " #   Column          Non-Null Count  Dtype  \n",
      "---  ------          --------------  -----  \n",
      " 0   ean_hotel_id    1631 non-null   int64  \n",
      " 1   name            1631 non-null   object \n",
      " 2   address1        1631 non-null   object \n",
      " 3   city            1631 non-null   object \n",
      " 4   state_province  1631 non-null   object \n",
      " 5   postal_code     1631 non-null   object \n",
      " 6   latitude        1631 non-null   float64\n",
      " 7   longitude       1631 non-null   float64\n",
      " 8   star_rating     1630 non-null   float64\n",
      " 9   high_rate       1631 non-null   float64\n",
      " 10  low_rate        1631 non-null   float64\n",
      " 11  distance        1631 non-null   float64\n",
      "dtypes: float64(6), int64(1), object(5)\n",
      "memory usage: 153.0+ KB\n"
     ]
    }
   ],
   "source": [
    "df.info()"
   ]
  },
  {
   "cell_type": "code",
   "execution_count": 5,
   "metadata": {},
   "outputs": [
    {
     "data": {
      "text/html": [
       "<div>\n",
       "<style scoped>\n",
       "    .dataframe tbody tr th:only-of-type {\n",
       "        vertical-align: middle;\n",
       "    }\n",
       "\n",
       "    .dataframe tbody tr th {\n",
       "        vertical-align: top;\n",
       "    }\n",
       "\n",
       "    .dataframe thead th {\n",
       "        text-align: right;\n",
       "    }\n",
       "</style>\n",
       "<table border=\"1\" class=\"dataframe\">\n",
       "  <thead>\n",
       "    <tr style=\"text-align: right;\">\n",
       "      <th></th>\n",
       "      <th>ean_hotel_id</th>\n",
       "      <th>name</th>\n",
       "      <th>address1</th>\n",
       "      <th>city</th>\n",
       "      <th>state_province</th>\n",
       "      <th>postal_code</th>\n",
       "      <th>latitude</th>\n",
       "      <th>longitude</th>\n",
       "      <th>star_rating</th>\n",
       "      <th>high_rate</th>\n",
       "      <th>low_rate</th>\n",
       "    </tr>\n",
       "  </thead>\n",
       "  <tbody>\n",
       "    <tr>\n",
       "      <th>0</th>\n",
       "      <td>269955</td>\n",
       "      <td>Hilton Garden Inn Albany/SUNY Area</td>\n",
       "      <td>1389 Washington Ave</td>\n",
       "      <td>Albany</td>\n",
       "      <td>NY</td>\n",
       "      <td>12206</td>\n",
       "      <td>42.68751</td>\n",
       "      <td>-73.81643</td>\n",
       "      <td>3.0</td>\n",
       "      <td>154.0272</td>\n",
       "      <td>124.0216</td>\n",
       "    </tr>\n",
       "    <tr>\n",
       "      <th>1</th>\n",
       "      <td>113431</td>\n",
       "      <td>Courtyard by Marriott Albany Thruway</td>\n",
       "      <td>1455 Washington Avenue</td>\n",
       "      <td>Albany</td>\n",
       "      <td>NY</td>\n",
       "      <td>12206</td>\n",
       "      <td>42.68971</td>\n",
       "      <td>-73.82021</td>\n",
       "      <td>3.0</td>\n",
       "      <td>179.0100</td>\n",
       "      <td>134.0000</td>\n",
       "    </tr>\n",
       "    <tr>\n",
       "      <th>2</th>\n",
       "      <td>108151</td>\n",
       "      <td>Radisson Hotel Albany</td>\n",
       "      <td>205 Wolf Rd</td>\n",
       "      <td>Albany</td>\n",
       "      <td>NY</td>\n",
       "      <td>12205</td>\n",
       "      <td>42.72410</td>\n",
       "      <td>-73.79822</td>\n",
       "      <td>3.0</td>\n",
       "      <td>134.1700</td>\n",
       "      <td>84.1600</td>\n",
       "    </tr>\n",
       "    <tr>\n",
       "      <th>3</th>\n",
       "      <td>254756</td>\n",
       "      <td>Hilton Garden Inn Albany Medical Center</td>\n",
       "      <td>62 New Scotland Ave</td>\n",
       "      <td>Albany</td>\n",
       "      <td>NY</td>\n",
       "      <td>12208</td>\n",
       "      <td>42.65157</td>\n",
       "      <td>-73.77638</td>\n",
       "      <td>3.0</td>\n",
       "      <td>308.2807</td>\n",
       "      <td>228.4597</td>\n",
       "    </tr>\n",
       "    <tr>\n",
       "      <th>4</th>\n",
       "      <td>198232</td>\n",
       "      <td>CrestHill Suites SUNY University Albany</td>\n",
       "      <td>1415 Washington Avenue</td>\n",
       "      <td>Albany</td>\n",
       "      <td>NY</td>\n",
       "      <td>12206</td>\n",
       "      <td>42.68873</td>\n",
       "      <td>-73.81854</td>\n",
       "      <td>3.0</td>\n",
       "      <td>169.3900</td>\n",
       "      <td>89.3900</td>\n",
       "    </tr>\n",
       "  </tbody>\n",
       "</table>\n",
       "</div>"
      ],
      "text/plain": [
       "   ean_hotel_id                                     name  \\\n",
       "0        269955       Hilton Garden Inn Albany/SUNY Area   \n",
       "1        113431     Courtyard by Marriott Albany Thruway   \n",
       "2        108151                    Radisson Hotel Albany   \n",
       "3        254756  Hilton Garden Inn Albany Medical Center   \n",
       "4        198232  CrestHill Suites SUNY University Albany   \n",
       "\n",
       "                 address1    city state_province postal_code  latitude  \\\n",
       "0     1389 Washington Ave  Albany             NY       12206  42.68751   \n",
       "1  1455 Washington Avenue  Albany             NY       12206  42.68971   \n",
       "2             205 Wolf Rd  Albany             NY       12205  42.72410   \n",
       "3     62 New Scotland Ave  Albany             NY       12208  42.65157   \n",
       "4  1415 Washington Avenue  Albany             NY       12206  42.68873   \n",
       "\n",
       "   longitude  star_rating  high_rate  low_rate  \n",
       "0  -73.81643          3.0   154.0272  124.0216  \n",
       "1  -73.82021          3.0   179.0100  134.0000  \n",
       "2  -73.79822          3.0   134.1700   84.1600  \n",
       "3  -73.77638          3.0   308.2807  228.4597  \n",
       "4  -73.81854          3.0   169.3900   89.3900  "
      ]
     },
     "execution_count": 5,
     "metadata": {},
     "output_type": "execute_result"
    }
   ],
   "source": [
    "df.head()"
   ]
  },
  {
   "cell_type": "code",
   "execution_count": 10,
   "metadata": {},
   "outputs": [],
   "source": [
    "import numpy as np\n",
    "\n",
    "# Define a basic Haversine distance formula\n",
    "def haversine(lat1, lon1, lat2, lon2):\n",
    "    lat1, lon1, lat2, lon2 = map(np.deg2rad, [lat1, lon1, lat2, lon2])\n",
    "    dlat = lat2 - lat1 \n",
    "    dlon = lon2 - lon1 \n",
    "    a = np.sin(dlat/2)**2 + np.cos(lat1) * np.cos(lat2) * np.sin(dlon/2)**2\n",
    "    total = 2 * np.arcsin(np.sqrt(a)) \n",
    "    return total"
   ]
  },
  {
   "cell_type": "markdown",
   "metadata": {},
   "source": [
    "#### Crude looping over DataFrame rows using indices"
   ]
  },
  {
   "cell_type": "code",
   "execution_count": 7,
   "metadata": {},
   "outputs": [],
   "source": [
    "# Define a function to manually loop over all rows and return a series of distances\n",
    "def haversine_looping(df):\n",
    "    distance_list = []\n",
    "    for i in range(0, len(df)):\n",
    "        d = haversine(40.671, -73.985, df.iloc[i]['latitude'], df.iloc[i]['longitude'])\n",
    "        distance_list.append(d)\n",
    "    return distance_list"
   ]
  },
  {
   "cell_type": "code",
   "execution_count": 12,
   "metadata": {},
   "outputs": [
    {
     "name": "stdout",
     "output_type": "stream",
     "text": [
      "646 ms ± 9 ms per loop (mean ± std. dev. of 7 runs, 1 loop each)\n"
     ]
    }
   ],
   "source": [
    "%%timeit\n",
    "# Run the haversine looping function\n",
    "# 160000\n",
    "df['distance'] = haversine_looping(df)"
   ]
  },
  {
   "cell_type": "markdown",
   "metadata": {},
   "source": [
    "#### Looping with iterrows()"
   ]
  },
  {
   "cell_type": "code",
   "execution_count": 16,
   "metadata": {},
   "outputs": [
    {
     "name": "stdout",
     "output_type": "stream",
     "text": [
      "304 ms ± 23.5 ms per loop (mean ± std. dev. of 7 runs, 1 loop each)\n"
     ]
    }
   ],
   "source": [
    "%%timeit\n",
    "# Haversine applied on rows via iteration\n",
    "haversine_series = []\n",
    "for index, row in df.iterrows():\n",
    "    haversine_series.append(haversine(40.671, -73.985, row['latitude'], row['longitude']))\n",
    "df['distance'] = haversine_series"
   ]
  },
  {
   "cell_type": "markdown",
   "metadata": {},
   "source": [
    "#### Looping with apply()"
   ]
  },
  {
   "cell_type": "code",
   "execution_count": 15,
   "metadata": {},
   "outputs": [
    {
     "name": "stdout",
     "output_type": "stream",
     "text": [
      "84.6 ms ± 3.62 ms per loop (mean ± std. dev. of 7 runs, 10 loops each)\n"
     ]
    }
   ],
   "source": [
    "%%timeit\n",
    "\n",
    "# Timing apply on the Haversine function\n",
    "df['distance'] = df.apply(lambda row: haversine(40.671, -73.985, row['latitude'], row['longitude']), axis=1)"
   ]
  },
  {
   "cell_type": "markdown",
   "metadata": {},
   "source": [
    "#### Vectorization with Pandas series"
   ]
  },
  {
   "cell_type": "code",
   "execution_count": 17,
   "metadata": {},
   "outputs": [
    {
     "name": "stdout",
     "output_type": "stream",
     "text": [
      "2.57 ms ± 88.4 µs per loop (mean ± std. dev. of 7 runs, 100 loops each)\n"
     ]
    }
   ],
   "source": [
    "%%timeit \n",
    "# Vectorized implementation of Haversine applied on Pandas series\n",
    "df['distance'] = haversine(40.671, -73.985, df['latitude'], df['longitude'])"
   ]
  },
  {
   "cell_type": "markdown",
   "metadata": {},
   "source": [
    "####  Vectorization with NumPy arrays"
   ]
  },
  {
   "cell_type": "code",
   "execution_count": 18,
   "metadata": {},
   "outputs": [
    {
     "name": "stdout",
     "output_type": "stream",
     "text": [
      "274 µs ± 5.4 µs per loop (mean ± std. dev. of 7 runs, 1000 loops each)\n"
     ]
    }
   ],
   "source": [
    "%%timeit\n",
    "# Vectorized implementation of Haversine applied on NumPy arrays\n",
    "df['distance'] = haversine(40.671, -73.985, df['latitude'].values, df['longitude'].values)"
   ]
  },
  {
   "cell_type": "markdown",
   "metadata": {},
   "source": [
    "## I/O Bound Programs"
   ]
  },
  {
   "cell_type": "markdown",
   "metadata": {},
   "source": [
    "### I/O Bounds"
   ]
  },
  {
   "cell_type": "markdown",
   "metadata": {},
   "source": [
    "<img src=\"./images/report_assembly.png\">"
   ]
  },
  {
   "cell_type": "markdown",
   "metadata": {},
   "source": [
    "<img src=\"./images/report_assembly_bidir.png\">"
   ]
  },
  {
   "cell_type": "markdown",
   "metadata": {},
   "source": [
    "### Profiling an I/O bound task"
   ]
  },
  {
   "cell_type": "code",
   "execution_count": 9,
   "metadata": {},
   "outputs": [],
   "source": [
    "query = '''\n",
    "SELECT DISTINCT teamID \n",
    "FROM Teams \n",
    "INNER JOIN TeamsFranchises ON Teams.franchID == TeamsFranchises.franchID \n",
    "WHERE TeamsFranchises.active = 'Y';\n",
    "'''"
   ]
  },
  {
   "cell_type": "code",
   "execution_count": 11,
   "metadata": {},
   "outputs": [],
   "source": [
    "import cProfile\n",
    "import sqlite3\n",
    "\n",
    "conn = sqlite3.connect(\"data/lahman2015.sqlite\")\n",
    "\n"
   ]
  },
  {
   "cell_type": "code",
   "execution_count": null,
   "metadata": {},
   "outputs": [],
   "source": []
  },
  {
   "cell_type": "code",
   "execution_count": null,
   "metadata": {},
   "outputs": [],
   "source": []
  },
  {
   "cell_type": "code",
   "execution_count": 44,
   "metadata": {},
   "outputs": [],
   "source": [
    "import cProfile\n",
    "import sqlite3\n",
    "\n",
    "query = \"SELECT SUM(HR) FROM Batting WHERE teamId=?\"\n",
    "conn = sqlite3.connect(\"data/lahman2015.sqlite\")\n",
    "cur = conn.cursor()\n",
    "\n",
    "def calculate_runs(teams):\n"
   ]
  },
  {
   "cell_type": "code",
   "execution_count": null,
   "metadata": {},
   "outputs": [],
   "source": []
  },
  {
   "cell_type": "code",
   "execution_count": null,
   "metadata": {},
   "outputs": [],
   "source": []
  },
  {
   "cell_type": "code",
   "execution_count": null,
   "metadata": {},
   "outputs": [],
   "source": []
  },
  {
   "cell_type": "code",
   "execution_count": null,
   "metadata": {},
   "outputs": [],
   "source": []
  },
  {
   "cell_type": "code",
   "execution_count": null,
   "metadata": {},
   "outputs": [],
   "source": []
  },
  {
   "cell_type": "markdown",
   "metadata": {},
   "source": [
    "### Blocking Tasks"
   ]
  },
  {
   "cell_type": "code",
   "execution_count": 18,
   "metadata": {},
   "outputs": [],
   "source": [
    "import sqlite3\n",
    "\n",
    "# Create an in memory database.\n",
    "memory = sqlite3.connect(':memory:')\n",
    "\n",
    "# Connect to our disk database.\n",
    "disk = sqlite3.connect('data/lahman2015.sqlite')\n",
    "\n",
    "\n"
   ]
  },
  {
   "cell_type": "code",
   "execution_count": 20,
   "metadata": {},
   "outputs": [],
   "source": [
    "import cProfile\n",
    "import sqlite3\n",
    "\n"
   ]
  },
  {
   "cell_type": "code",
   "execution_count": null,
   "metadata": {},
   "outputs": [],
   "source": []
  },
  {
   "cell_type": "code",
   "execution_count": null,
   "metadata": {},
   "outputs": [],
   "source": []
  },
  {
   "cell_type": "markdown",
   "metadata": {},
   "source": [
    "## Optimizing Python Code with pandas"
   ]
  },
  {
   "cell_type": "markdown",
   "metadata": {},
   "source": [
    "### Basic Looping"
   ]
  },
  {
   "cell_type": "markdown",
   "metadata": {},
   "source": [
    "### Select columns and rows efficiently\n"
   ]
  },
  {
   "cell_type": "code",
   "execution_count": 19,
   "metadata": {},
   "outputs": [
    {
     "data": {
      "text/html": [
       "<div>\n",
       "<style scoped>\n",
       "    .dataframe tbody tr th:only-of-type {\n",
       "        vertical-align: middle;\n",
       "    }\n",
       "\n",
       "    .dataframe tbody tr th {\n",
       "        vertical-align: top;\n",
       "    }\n",
       "\n",
       "    .dataframe thead th {\n",
       "        text-align: right;\n",
       "    }\n",
       "</style>\n",
       "<table border=\"1\" class=\"dataframe\">\n",
       "  <thead>\n",
       "    <tr style=\"text-align: right;\">\n",
       "      <th></th>\n",
       "      <th>School ID</th>\n",
       "      <th>School Name</th>\n",
       "      <th>Building Code</th>\n",
       "      <th>Street Address</th>\n",
       "      <th>City</th>\n",
       "      <th>State</th>\n",
       "      <th>Zip Code</th>\n",
       "    </tr>\n",
       "  </thead>\n",
       "  <tbody>\n",
       "    <tr>\n",
       "      <th>0</th>\n",
       "      <td>02M260</td>\n",
       "      <td>Clinton School Writers and Artists</td>\n",
       "      <td>M933</td>\n",
       "      <td>425 West 33rd Street</td>\n",
       "      <td>Manhattan</td>\n",
       "      <td>NY</td>\n",
       "      <td>10001</td>\n",
       "    </tr>\n",
       "    <tr>\n",
       "      <th>1</th>\n",
       "      <td>06M211</td>\n",
       "      <td>Inwood Early College for Health and Informatio...</td>\n",
       "      <td>M052</td>\n",
       "      <td>650 Academy Street</td>\n",
       "      <td>Manhattan</td>\n",
       "      <td>NY</td>\n",
       "      <td>10002</td>\n",
       "    </tr>\n",
       "    <tr>\n",
       "      <th>2</th>\n",
       "      <td>01M539</td>\n",
       "      <td>New Explorations into Science, Technology and ...</td>\n",
       "      <td>M022</td>\n",
       "      <td>111 Columbia Street</td>\n",
       "      <td>Manhattan</td>\n",
       "      <td>NY</td>\n",
       "      <td>10002</td>\n",
       "    </tr>\n",
       "  </tbody>\n",
       "</table>\n",
       "</div>"
      ],
      "text/plain": [
       "  School ID                                        School Name Building Code  \\\n",
       "0    02M260                 Clinton School Writers and Artists          M933   \n",
       "1    06M211  Inwood Early College for Health and Informatio...          M052   \n",
       "2    01M539  New Explorations into Science, Technology and ...          M022   \n",
       "\n",
       "         Street Address       City State  Zip Code  \n",
       "0  425 West 33rd Street  Manhattan    NY     10001  \n",
       "1    650 Academy Street  Manhattan    NY     10002  \n",
       "2   111 Columbia Street  Manhattan    NY     10002  "
      ]
     },
     "execution_count": 19,
     "metadata": {},
     "output_type": "execute_result"
    }
   ],
   "source": [
    "data = pd.read_csv('data/school.csv')\n",
    "data.head(3)"
   ]
  },
  {
   "cell_type": "code",
   "execution_count": 26,
   "metadata": {},
   "outputs": [],
   "source": [
    "top_cities = data['City'].value_counts().head(5).index.to_list()"
   ]
  },
  {
   "cell_type": "code",
   "execution_count": 28,
   "metadata": {},
   "outputs": [
    {
     "data": {
      "text/plain": [
       "['Brooklyn', 'Bronx', 'Manhattan', 'Jamaica', 'Long Island City']"
      ]
     },
     "execution_count": 28,
     "metadata": {},
     "output_type": "execute_result"
    }
   ],
   "source": [
    "top_cities"
   ]
  },
  {
   "cell_type": "code",
   "execution_count": 34,
   "metadata": {},
   "outputs": [
    {
     "name": "stdout",
     "output_type": "stream",
     "text": [
      "CPU times: user 7.11 ms, sys: 0 ns, total: 7.11 ms\n",
      "Wall time: 5.5 ms\n"
     ]
    },
    {
     "name": "stderr",
     "output_type": "stream",
     "text": [
      "<timed exec>:1: SettingWithCopyWarning: \n",
      "A value is trying to be set on a copy of a slice from a DataFrame\n",
      "\n",
      "See the caveats in the documentation: https://pandas.pydata.org/pandas-docs/stable/user_guide/indexing.html#returning-a-view-versus-a-copy\n"
     ]
    }
   ],
   "source": [
    "# slabo\n",
    "%%time\n",
    "data['City'][(data['City']).isin(top_cities) == False] = 'Others'"
   ]
  },
  {
   "cell_type": "code",
   "execution_count": 35,
   "metadata": {},
   "outputs": [
    {
     "name": "stdout",
     "output_type": "stream",
     "text": [
      "888 µs ± 86.4 µs per loop (mean ± std. dev. of 7 runs, 1000 loops each)\n"
     ]
    }
   ],
   "source": [
    "%%timeit\n",
    "data.loc[(data['City']).isin(top_cities) == False, 'City'] = 'Others'"
   ]
  },
  {
   "cell_type": "markdown",
   "metadata": {},
   "source": [
    "### Uporaba biult-in funkciji"
   ]
  },
  {
   "cell_type": "markdown",
   "metadata": {},
   "source": [
    "### Joining on indexes is faster than joining on columns"
   ]
  },
  {
   "cell_type": "markdown",
   "metadata": {},
   "source": [
    "Construct some sample data:"
   ]
  },
  {
   "cell_type": "code",
   "execution_count": 36,
   "metadata": {},
   "outputs": [],
   "source": [
    "n = 100000\n",
    "\n",
    "i1 = np.arange(n)\n",
    "np.random.shuffle(i1)\n",
    "df1 = pd.DataFrame({'i': i1,\n",
    "                    'j': np.random.randint(1,1000,n),\n",
    "                    'k': np.random.randint(1,1000,n)})\n",
    "\n",
    "i2 = np.arange(n)\n",
    "np.random.shuffle(i1)\n",
    "df2 = pd.DataFrame({'i': i2,\n",
    "                    'm': np.random.randint(1,1000,n),\n",
    "                    'n': np.random.randint(1,1000,n)})"
   ]
  },
  {
   "cell_type": "markdown",
   "metadata": {},
   "source": [
    "## PRIMER: Pohitritev pandas kode"
   ]
  },
  {
   "cell_type": "markdown",
   "metadata": {},
   "source": [
    "### Naloga"
   ]
  },
  {
   "cell_type": "markdown",
   "metadata": {},
   "source": [
    "### Priprava podatkov"
   ]
  },
  {
   "cell_type": "code",
   "execution_count": 37,
   "metadata": {},
   "outputs": [],
   "source": [
    "import pandas as pd"
   ]
  },
  {
   "cell_type": "code",
   "execution_count": 38,
   "metadata": {},
   "outputs": [],
   "source": [
    "df = pd.read_csv('data/demand_profile.csv')"
   ]
  },
  {
   "cell_type": "code",
   "execution_count": 39,
   "metadata": {},
   "outputs": [
    {
     "data": {
      "text/html": [
       "<div>\n",
       "<style scoped>\n",
       "    .dataframe tbody tr th:only-of-type {\n",
       "        vertical-align: middle;\n",
       "    }\n",
       "\n",
       "    .dataframe tbody tr th {\n",
       "        vertical-align: top;\n",
       "    }\n",
       "\n",
       "    .dataframe thead th {\n",
       "        text-align: right;\n",
       "    }\n",
       "</style>\n",
       "<table border=\"1\" class=\"dataframe\">\n",
       "  <thead>\n",
       "    <tr style=\"text-align: right;\">\n",
       "      <th></th>\n",
       "      <th>date_time</th>\n",
       "      <th>energy_kwh</th>\n",
       "    </tr>\n",
       "  </thead>\n",
       "  <tbody>\n",
       "    <tr>\n",
       "      <th>0</th>\n",
       "      <td>1/1/13 0:00</td>\n",
       "      <td>0.586</td>\n",
       "    </tr>\n",
       "    <tr>\n",
       "      <th>1</th>\n",
       "      <td>1/1/13 1:00</td>\n",
       "      <td>0.580</td>\n",
       "    </tr>\n",
       "    <tr>\n",
       "      <th>2</th>\n",
       "      <td>1/1/13 2:00</td>\n",
       "      <td>0.572</td>\n",
       "    </tr>\n",
       "    <tr>\n",
       "      <th>3</th>\n",
       "      <td>1/1/13 3:00</td>\n",
       "      <td>0.596</td>\n",
       "    </tr>\n",
       "    <tr>\n",
       "      <th>4</th>\n",
       "      <td>1/1/13 4:00</td>\n",
       "      <td>0.592</td>\n",
       "    </tr>\n",
       "  </tbody>\n",
       "</table>\n",
       "</div>"
      ],
      "text/plain": [
       "     date_time  energy_kwh\n",
       "0  1/1/13 0:00       0.586\n",
       "1  1/1/13 1:00       0.580\n",
       "2  1/1/13 2:00       0.572\n",
       "3  1/1/13 3:00       0.596\n",
       "4  1/1/13 4:00       0.592"
      ]
     },
     "execution_count": 39,
     "metadata": {},
     "output_type": "execute_result"
    }
   ],
   "source": [
    "df.head()"
   ]
  },
  {
   "cell_type": "code",
   "execution_count": 40,
   "metadata": {},
   "outputs": [
    {
     "name": "stdout",
     "output_type": "stream",
     "text": [
      "<class 'pandas.core.frame.DataFrame'>\n",
      "RangeIndex: 8760 entries, 0 to 8759\n",
      "Data columns (total 2 columns):\n",
      " #   Column      Non-Null Count  Dtype  \n",
      "---  ------      --------------  -----  \n",
      " 0   date_time   8760 non-null   object \n",
      " 1   energy_kwh  8760 non-null   float64\n",
      "dtypes: float64(1), object(1)\n",
      "memory usage: 137.0+ KB\n"
     ]
    }
   ],
   "source": [
    "df.info()"
   ]
  },
  {
   "cell_type": "code",
   "execution_count": 41,
   "metadata": {},
   "outputs": [
    {
     "data": {
      "text/plain": [
       "date_time      object\n",
       "energy_kwh    float64\n",
       "dtype: object"
      ]
     },
     "execution_count": 41,
     "metadata": {},
     "output_type": "execute_result"
    }
   ],
   "source": [
    "df.dtypes"
   ]
  },
  {
   "cell_type": "code",
   "execution_count": 42,
   "metadata": {},
   "outputs": [
    {
     "data": {
      "text/plain": [
       "dtype('<M8[ns]')"
      ]
     },
     "execution_count": 42,
     "metadata": {},
     "output_type": "execute_result"
    }
   ],
   "source": [
    "df['date_time'] = pd.to_datetime(df['date_time'])\n",
    "df['date_time'].dtype"
   ]
  },
  {
   "cell_type": "code",
   "execution_count": 43,
   "metadata": {},
   "outputs": [
    {
     "data": {
      "text/html": [
       "<div>\n",
       "<style scoped>\n",
       "    .dataframe tbody tr th:only-of-type {\n",
       "        vertical-align: middle;\n",
       "    }\n",
       "\n",
       "    .dataframe tbody tr th {\n",
       "        vertical-align: top;\n",
       "    }\n",
       "\n",
       "    .dataframe thead th {\n",
       "        text-align: right;\n",
       "    }\n",
       "</style>\n",
       "<table border=\"1\" class=\"dataframe\">\n",
       "  <thead>\n",
       "    <tr style=\"text-align: right;\">\n",
       "      <th></th>\n",
       "      <th>date_time</th>\n",
       "      <th>energy_kwh</th>\n",
       "    </tr>\n",
       "  </thead>\n",
       "  <tbody>\n",
       "    <tr>\n",
       "      <th>0</th>\n",
       "      <td>2013-01-01 00:00:00</td>\n",
       "      <td>0.586</td>\n",
       "    </tr>\n",
       "    <tr>\n",
       "      <th>1</th>\n",
       "      <td>2013-01-01 01:00:00</td>\n",
       "      <td>0.580</td>\n",
       "    </tr>\n",
       "    <tr>\n",
       "      <th>2</th>\n",
       "      <td>2013-01-01 02:00:00</td>\n",
       "      <td>0.572</td>\n",
       "    </tr>\n",
       "    <tr>\n",
       "      <th>3</th>\n",
       "      <td>2013-01-01 03:00:00</td>\n",
       "      <td>0.596</td>\n",
       "    </tr>\n",
       "    <tr>\n",
       "      <th>4</th>\n",
       "      <td>2013-01-01 04:00:00</td>\n",
       "      <td>0.592</td>\n",
       "    </tr>\n",
       "    <tr>\n",
       "      <th>5</th>\n",
       "      <td>2013-01-01 05:00:00</td>\n",
       "      <td>0.592</td>\n",
       "    </tr>\n",
       "    <tr>\n",
       "      <th>6</th>\n",
       "      <td>2013-01-01 06:00:00</td>\n",
       "      <td>0.596</td>\n",
       "    </tr>\n",
       "    <tr>\n",
       "      <th>7</th>\n",
       "      <td>2013-01-01 07:00:00</td>\n",
       "      <td>0.239</td>\n",
       "    </tr>\n",
       "    <tr>\n",
       "      <th>8</th>\n",
       "      <td>2013-01-01 08:00:00</td>\n",
       "      <td>0.566</td>\n",
       "    </tr>\n",
       "  </tbody>\n",
       "</table>\n",
       "</div>"
      ],
      "text/plain": [
       "            date_time  energy_kwh\n",
       "0 2013-01-01 00:00:00       0.586\n",
       "1 2013-01-01 01:00:00       0.580\n",
       "2 2013-01-01 02:00:00       0.572\n",
       "3 2013-01-01 03:00:00       0.596\n",
       "4 2013-01-01 04:00:00       0.592\n",
       "5 2013-01-01 05:00:00       0.592\n",
       "6 2013-01-01 06:00:00       0.596\n",
       "7 2013-01-01 07:00:00       0.239\n",
       "8 2013-01-01 08:00:00       0.566"
      ]
     },
     "execution_count": 43,
     "metadata": {},
     "output_type": "execute_result"
    }
   ],
   "source": [
    "df.head(9)"
   ]
  },
  {
   "cell_type": "code",
   "execution_count": 46,
   "metadata": {},
   "outputs": [],
   "source": [
    "def convert(df, column_name):\n",
    "    return pd.to_datetime(df[column_name])"
   ]
  },
  {
   "cell_type": "code",
   "execution_count": 47,
   "metadata": {},
   "outputs": [],
   "source": [
    "def convert_with_format(df, column_name):\n",
    "    return pd.to_datetime(df[column_name], format='%d/%m/%y %H:%M')"
   ]
  },
  {
   "cell_type": "code",
   "execution_count": 48,
   "metadata": {},
   "outputs": [],
   "source": [
    "df = pd.read_csv('data/demand_profile.csv')\n",
    "df_converted = df.copy()"
   ]
  },
  {
   "cell_type": "code",
   "execution_count": 49,
   "metadata": {},
   "outputs": [
    {
     "name": "stdout",
     "output_type": "stream",
     "text": [
      "1.01 s ± 12.7 ms per loop (mean ± std. dev. of 3 runs, 10 loops each)\n"
     ]
    }
   ],
   "source": [
    "%%timeit -r 3 -n 10\n",
    "df_converted['date_time'] = convert(df, 'date_time')"
   ]
  },
  {
   "cell_type": "code",
   "execution_count": 50,
   "metadata": {},
   "outputs": [],
   "source": [
    "df_converted = df.copy()"
   ]
  },
  {
   "cell_type": "code",
   "execution_count": 51,
   "metadata": {},
   "outputs": [
    {
     "name": "stdout",
     "output_type": "stream",
     "text": [
      "44.1 ms ± 1.64 ms per loop (mean ± std. dev. of 3 runs, 10 loops each)\n"
     ]
    }
   ],
   "source": [
    "%%timeit -r 3 -n 10\n",
    "df_converted['date_time'] = convert_with_format(df, 'date_time')"
   ]
  },
  {
   "cell_type": "code",
   "execution_count": 55,
   "metadata": {},
   "outputs": [
    {
     "data": {
      "text/html": [
       "<div>\n",
       "<style scoped>\n",
       "    .dataframe tbody tr th:only-of-type {\n",
       "        vertical-align: middle;\n",
       "    }\n",
       "\n",
       "    .dataframe tbody tr th {\n",
       "        vertical-align: top;\n",
       "    }\n",
       "\n",
       "    .dataframe thead th {\n",
       "        text-align: right;\n",
       "    }\n",
       "</style>\n",
       "<table border=\"1\" class=\"dataframe\">\n",
       "  <thead>\n",
       "    <tr style=\"text-align: right;\">\n",
       "      <th></th>\n",
       "      <th>date_time</th>\n",
       "      <th>energy_kwh</th>\n",
       "    </tr>\n",
       "  </thead>\n",
       "  <tbody>\n",
       "    <tr>\n",
       "      <th>0</th>\n",
       "      <td>2013-01-01 00:00:00</td>\n",
       "      <td>0.586</td>\n",
       "    </tr>\n",
       "    <tr>\n",
       "      <th>1</th>\n",
       "      <td>2013-01-01 01:00:00</td>\n",
       "      <td>0.580</td>\n",
       "    </tr>\n",
       "    <tr>\n",
       "      <th>2</th>\n",
       "      <td>2013-01-01 02:00:00</td>\n",
       "      <td>0.572</td>\n",
       "    </tr>\n",
       "    <tr>\n",
       "      <th>3</th>\n",
       "      <td>2013-01-01 03:00:00</td>\n",
       "      <td>0.596</td>\n",
       "    </tr>\n",
       "    <tr>\n",
       "      <th>4</th>\n",
       "      <td>2013-01-01 04:00:00</td>\n",
       "      <td>0.592</td>\n",
       "    </tr>\n",
       "  </tbody>\n",
       "</table>\n",
       "</div>"
      ],
      "text/plain": [
       "            date_time  energy_kwh\n",
       "0 2013-01-01 00:00:00       0.586\n",
       "1 2013-01-01 01:00:00       0.580\n",
       "2 2013-01-01 02:00:00       0.572\n",
       "3 2013-01-01 03:00:00       0.596\n",
       "4 2013-01-01 04:00:00       0.592"
      ]
     },
     "execution_count": 55,
     "metadata": {},
     "output_type": "execute_result"
    }
   ],
   "source": [
    "df_converted.head()"
   ]
  },
  {
   "cell_type": "code",
   "execution_count": 56,
   "metadata": {},
   "outputs": [],
   "source": [
    "df_test = df_converted.copy()"
   ]
  },
  {
   "cell_type": "code",
   "execution_count": 59,
   "metadata": {},
   "outputs": [
    {
     "data": {
      "text/html": [
       "<div>\n",
       "<style scoped>\n",
       "    .dataframe tbody tr th:only-of-type {\n",
       "        vertical-align: middle;\n",
       "    }\n",
       "\n",
       "    .dataframe tbody tr th {\n",
       "        vertical-align: top;\n",
       "    }\n",
       "\n",
       "    .dataframe thead th {\n",
       "        text-align: right;\n",
       "    }\n",
       "</style>\n",
       "<table border=\"1\" class=\"dataframe\">\n",
       "  <thead>\n",
       "    <tr style=\"text-align: right;\">\n",
       "      <th></th>\n",
       "      <th>date_time</th>\n",
       "      <th>energy_kwh</th>\n",
       "      <th>cost_cents</th>\n",
       "    </tr>\n",
       "  </thead>\n",
       "  <tbody>\n",
       "    <tr>\n",
       "      <th>0</th>\n",
       "      <td>2013-01-01 00:00:00</td>\n",
       "      <td>0.586</td>\n",
       "      <td>16.408</td>\n",
       "    </tr>\n",
       "    <tr>\n",
       "      <th>1</th>\n",
       "      <td>2013-01-01 01:00:00</td>\n",
       "      <td>0.580</td>\n",
       "      <td>16.240</td>\n",
       "    </tr>\n",
       "    <tr>\n",
       "      <th>2</th>\n",
       "      <td>2013-01-01 02:00:00</td>\n",
       "      <td>0.572</td>\n",
       "      <td>16.016</td>\n",
       "    </tr>\n",
       "    <tr>\n",
       "      <th>3</th>\n",
       "      <td>2013-01-01 03:00:00</td>\n",
       "      <td>0.596</td>\n",
       "      <td>16.688</td>\n",
       "    </tr>\n",
       "    <tr>\n",
       "      <th>4</th>\n",
       "      <td>2013-01-01 04:00:00</td>\n",
       "      <td>0.592</td>\n",
       "      <td>16.576</td>\n",
       "    </tr>\n",
       "  </tbody>\n",
       "</table>\n",
       "</div>"
      ],
      "text/plain": [
       "            date_time  energy_kwh  cost_cents\n",
       "0 2013-01-01 00:00:00       0.586      16.408\n",
       "1 2013-01-01 01:00:00       0.580      16.240\n",
       "2 2013-01-01 02:00:00       0.572      16.016\n",
       "3 2013-01-01 03:00:00       0.596      16.688\n",
       "4 2013-01-01 04:00:00       0.592      16.576"
      ]
     },
     "execution_count": 59,
     "metadata": {},
     "output_type": "execute_result"
    }
   ],
   "source": [
    "df_test['cost_cents'] = df['energy_kwh'] * 28\n",
    "df_test.head()"
   ]
  },
  {
   "cell_type": "markdown",
   "metadata": {},
   "source": [
    "### 1) Simple Looping Over Pandas Data"
   ]
  },
  {
   "cell_type": "code",
   "execution_count": 62,
   "metadata": {},
   "outputs": [],
   "source": [
    "def apply_tariff(kwh, hour):\n",
    "    \"\"\"Calculates cost of electricity for given hour.\"\"\"    \n",
    "    if 0 <= hour < 7:\n",
    "        rate = 12\n",
    "    elif 7 <= hour < 17:\n",
    "        rate = 20\n",
    "    elif 17 <= hour < 24:\n",
    "        rate = 28\n",
    "    else:\n",
    "        raise ValueError(f'Invalid hour: {hour}')\n",
    "    return rate * kwh"
   ]
  },
  {
   "cell_type": "code",
   "execution_count": 63,
   "metadata": {},
   "outputs": [],
   "source": [
    "# Tega ne delamo !!!\n",
    "def apply_tariff_loop(df):\n",
    "    \"\"\"Calculate costs in loop.  Modifies `df` inplace.\"\"\"\n",
    "    energy_cost_list = []\n",
    "    for i in range(len(df)):\n",
    "        energy_used = df.iloc[i]['energy_kwh']\n",
    "        hour = df.iloc[i]['date_time'].hour\n",
    "        energy_cost = apply_tariff(energy_used, hour)\n",
    "        energy_cost_list.append(energy_cost)\n",
    "    df['cost_cents'] = energy_cost_list"
   ]
  },
  {
   "cell_type": "code",
   "execution_count": 64,
   "metadata": {},
   "outputs": [
    {
     "name": "stdout",
     "output_type": "stream",
     "text": [
      "4.04 s ± 203 ms per loop (mean ± std. dev. of 7 runs, 1 loop each)\n"
     ]
    }
   ],
   "source": [
    "%%timeit\n",
    "apply_tariff_loop(df_converted)"
   ]
  },
  {
   "cell_type": "markdown",
   "metadata": {},
   "source": [
    "### 2) Looping with .itertuples() and .iterrows()"
   ]
  },
  {
   "cell_type": "code",
   "execution_count": 65,
   "metadata": {},
   "outputs": [],
   "source": [
    "def apply_tariff_iterrows(df):\n",
    "    energy_cost_list = []\n",
    "    for index, row in df.iterrows():\n",
    "        # Get electricity used and hour of day\n",
    "        energy_used = row['energy_kwh']\n",
    "        hour = row['date_time'].hour\n",
    "        # Append cost list\n",
    "        energy_cost = apply_tariff(energy_used, hour)\n",
    "        energy_cost_list.append(energy_cost)\n",
    "    df['cost_cents'] = energy_cost_list"
   ]
  },
  {
   "cell_type": "code",
   "execution_count": 66,
   "metadata": {},
   "outputs": [
    {
     "name": "stdout",
     "output_type": "stream",
     "text": [
      "1.06 s ± 68.8 ms per loop (mean ± std. dev. of 7 runs, 1 loop each)\n"
     ]
    }
   ],
   "source": [
    "%%timeit\n",
    "apply_tariff_iterrows(df_converted)"
   ]
  },
  {
   "cell_type": "markdown",
   "metadata": {},
   "source": [
    "### 3) Pandas’ .apply()"
   ]
  },
  {
   "cell_type": "code",
   "execution_count": 67,
   "metadata": {},
   "outputs": [
    {
     "name": "stdout",
     "output_type": "stream",
     "text": [
      "209 ms ± 6.09 ms per loop (mean ± std. dev. of 7 runs, 1 loop each)\n"
     ]
    }
   ],
   "source": [
    "%%timeit\n",
    "df['cost_cents'] = df_converted.apply(lambda row: apply_tariff(kwh=row['energy_kwh'],hour=row['date_time'].hour), axis=1)"
   ]
  },
  {
   "cell_type": "markdown",
   "metadata": {},
   "source": [
    "### 4) Selecting Data With .isin()"
   ]
  },
  {
   "cell_type": "code",
   "execution_count": 68,
   "metadata": {},
   "outputs": [
    {
     "data": {
      "text/html": [
       "<div>\n",
       "<style scoped>\n",
       "    .dataframe tbody tr th:only-of-type {\n",
       "        vertical-align: middle;\n",
       "    }\n",
       "\n",
       "    .dataframe tbody tr th {\n",
       "        vertical-align: top;\n",
       "    }\n",
       "\n",
       "    .dataframe thead th {\n",
       "        text-align: right;\n",
       "    }\n",
       "</style>\n",
       "<table border=\"1\" class=\"dataframe\">\n",
       "  <thead>\n",
       "    <tr style=\"text-align: right;\">\n",
       "      <th></th>\n",
       "      <th>energy_kwh</th>\n",
       "      <th>cost_cents</th>\n",
       "    </tr>\n",
       "    <tr>\n",
       "      <th>date_time</th>\n",
       "      <th></th>\n",
       "      <th></th>\n",
       "    </tr>\n",
       "  </thead>\n",
       "  <tbody>\n",
       "    <tr>\n",
       "      <th>2013-01-01 00:00:00</th>\n",
       "      <td>0.586</td>\n",
       "      <td>7.032</td>\n",
       "    </tr>\n",
       "    <tr>\n",
       "      <th>2013-01-01 01:00:00</th>\n",
       "      <td>0.580</td>\n",
       "      <td>6.960</td>\n",
       "    </tr>\n",
       "    <tr>\n",
       "      <th>2013-01-01 02:00:00</th>\n",
       "      <td>0.572</td>\n",
       "      <td>6.864</td>\n",
       "    </tr>\n",
       "    <tr>\n",
       "      <th>2013-01-01 03:00:00</th>\n",
       "      <td>0.596</td>\n",
       "      <td>7.152</td>\n",
       "    </tr>\n",
       "    <tr>\n",
       "      <th>2013-01-01 04:00:00</th>\n",
       "      <td>0.592</td>\n",
       "      <td>7.104</td>\n",
       "    </tr>\n",
       "  </tbody>\n",
       "</table>\n",
       "</div>"
      ],
      "text/plain": [
       "                     energy_kwh  cost_cents\n",
       "date_time                                  \n",
       "2013-01-01 00:00:00       0.586       7.032\n",
       "2013-01-01 01:00:00       0.580       6.960\n",
       "2013-01-01 02:00:00       0.572       6.864\n",
       "2013-01-01 03:00:00       0.596       7.152\n",
       "2013-01-01 04:00:00       0.592       7.104"
      ]
     },
     "execution_count": 68,
     "metadata": {},
     "output_type": "execute_result"
    }
   ],
   "source": [
    "df_converted.set_index('date_time', inplace=True)\n",
    "df_converted.head()"
   ]
  },
  {
   "cell_type": "code",
   "execution_count": 71,
   "metadata": {},
   "outputs": [
    {
     "data": {
      "text/plain": [
       "array([ True,  True,  True, ..., False, False, False])"
      ]
     },
     "execution_count": 71,
     "metadata": {},
     "output_type": "execute_result"
    }
   ],
   "source": [
    "df_converted.index.hour.isin(range(0, 7))"
   ]
  },
  {
   "cell_type": "code",
   "execution_count": 72,
   "metadata": {},
   "outputs": [
    {
     "name": "stdout",
     "output_type": "stream",
     "text": [
      "6.52 ms ± 267 µs per loop (mean ± std. dev. of 7 runs, 100 loops each)\n"
     ]
    }
   ],
   "source": [
    "%%timeit\n",
    "peak_hours = df_converted.index.hour.isin(range(17, 24))\n",
    "shoulder_hours = df_converted.index.hour.isin(range(7, 17))\n",
    "off_peak_hours = df_converted.index.hour.isin(range(0, 7))\n",
    "\n",
    "df.loc[peak_hours, 'cost_cents'] = df.loc[peak_hours, 'energy_kwh'] * 28\n",
    "df.loc[shoulder_hours,'cost_cents'] = df.loc[shoulder_hours, 'energy_kwh'] * 20\n",
    "df.loc[off_peak_hours,'cost_cents'] = df.loc[off_peak_hours, 'energy_kwh'] * 12"
   ]
  },
  {
   "cell_type": "markdown",
   "metadata": {},
   "source": [
    "### 5) Pandas’ pd.cut() function"
   ]
  },
  {
   "cell_type": "code",
   "execution_count": 74,
   "metadata": {},
   "outputs": [
    {
     "data": {
      "text/plain": [
       "[12, 12, 12, 12, 12, ..., 28, 28, 28, 28, 28]\n",
       "Length: 8760\n",
       "Categories (3, int64): [12 < 20 < 28]"
      ]
     },
     "execution_count": 74,
     "metadata": {},
     "output_type": "execute_result"
    }
   ],
   "source": [
    "pd.cut(x=df_converted.index.hour,\n",
    "      bins=[0,7,17,24],\n",
    "      include_lowest=True,\n",
    "      labels=[12, 20, 28])"
   ]
  },
  {
   "cell_type": "code",
   "execution_count": 78,
   "metadata": {},
   "outputs": [
    {
     "name": "stdout",
     "output_type": "stream",
     "text": [
      "2.75 ms ± 197 µs per loop (mean ± std. dev. of 7 runs, 100 loops each)\n"
     ]
    }
   ],
   "source": [
    "%%timeit\n",
    "cents_per_kwh = pd.cut(x=df_converted.index.hour,\n",
    "                      bins=[0,7,17,24],\n",
    "                      include_lowest=True,\n",
    "                      labels=[12, 20, 28]).astype(int)\n",
    "\n",
    "df_converted['cost_cents'] = cents_per_kwh * df_converted['energy_kwh']"
   ]
  },
  {
   "cell_type": "markdown",
   "metadata": {},
   "source": [
    "# 6) Using NumPy"
   ]
  },
  {
   "cell_type": "code",
   "execution_count": 80,
   "metadata": {},
   "outputs": [
    {
     "name": "stdout",
     "output_type": "stream",
     "text": [
      "1.14 ms ± 68.7 µs per loop (mean ± std. dev. of 7 runs, 1000 loops each)\n"
     ]
    }
   ],
   "source": [
    "%%timeit\n",
    "prices = np.array([12, 20, 28])\n",
    "bins = np.digitize(df_converted.index.hour.values, bins=[7, 17, 24])\n",
    "df['cost_cents'] = prices[bins] * df['energy_kwh'].values"
   ]
  },
  {
   "cell_type": "markdown",
   "metadata": {},
   "source": [
    "# 7) Using Dask"
   ]
  },
  {
   "cell_type": "code",
   "execution_count": null,
   "metadata": {},
   "outputs": [],
   "source": [
    "#Dask omogoča multiprocesorsko računanje\n",
    "#https://realpython.com/python-concurency/\n",
    "#https://dask.org\n",
    "#https://tutorial.dask.org/00_overview.html"
   ]
  },
  {
   "cell_type": "code",
   "execution_count": 2,
   "metadata": {},
   "outputs": [],
   "source": [
    "#Paralelizacija kode z dask.delayed\n",
    "\n",
    "from dask.distributed import Client"
   ]
  },
  {
   "cell_type": "code",
   "execution_count": 3,
   "metadata": {},
   "outputs": [],
   "source": [
    "client = Client(n_workers = 4)"
   ]
  },
  {
   "cell_type": "code",
   "execution_count": 4,
   "metadata": {},
   "outputs": [],
   "source": [
    "from time import sleep\n",
    "\n",
    "def inc(x):\n",
    "    sleep(1)\n",
    "    return x+1\n",
    "\n",
    "def add (x,y):\n",
    "    sleep(1)\n",
    "    return x+y"
   ]
  },
  {
   "cell_type": "code",
   "execution_count": 5,
   "metadata": {},
   "outputs": [
    {
     "name": "stdout",
     "output_type": "stream",
     "text": [
      "CPU times: user 147 ms, sys: 23.8 ms, total: 171 ms\n",
      "Wall time: 3 s\n"
     ]
    }
   ],
   "source": [
    "%%time\n",
    "x = inc(1)\n",
    "y = inc(2)\n",
    "z = add(x,y)"
   ]
  },
  {
   "cell_type": "code",
   "execution_count": 6,
   "metadata": {},
   "outputs": [],
   "source": [
    "from dask import delayed"
   ]
  },
  {
   "cell_type": "code",
   "execution_count": 18,
   "metadata": {},
   "outputs": [
    {
     "name": "stdout",
     "output_type": "stream",
     "text": [
      "CPU times: user 1.91 ms, sys: 716 µs, total: 2.63 ms\n",
      "Wall time: 1.29 ms\n"
     ]
    }
   ],
   "source": [
    "%%time\n",
    "x = delayed(inc)(1)\n",
    "y = delayed(inc)(2)\n",
    "z = delayed(add)(x,y)"
   ]
  },
  {
   "cell_type": "code",
   "execution_count": 19,
   "metadata": {},
   "outputs": [
    {
     "data": {
      "text/plain": [
       "Delayed('add-0f49c443-816a-49bc-95a6-6b14783e44a7')"
      ]
     },
     "execution_count": 19,
     "metadata": {},
     "output_type": "execute_result"
    }
   ],
   "source": [
    "z"
   ]
  },
  {
   "cell_type": "code",
   "execution_count": 20,
   "metadata": {},
   "outputs": [
    {
     "name": "stdout",
     "output_type": "stream",
     "text": [
      "CPU times: user 123 ms, sys: 5.87 ms, total: 129 ms\n",
      "Wall time: 2.02 s\n"
     ]
    },
    {
     "data": {
      "text/plain": [
       "5"
      ]
     },
     "execution_count": 20,
     "metadata": {},
     "output_type": "execute_result"
    }
   ],
   "source": [
    "%%time\n",
    "z.compute()"
   ]
  },
  {
   "cell_type": "markdown",
   "metadata": {},
   "source": [
    "### Pandas dask"
   ]
  },
  {
   "cell_type": "code",
   "execution_count": 29,
   "metadata": {},
   "outputs": [],
   "source": [
    "import os\n",
    "import pandas as pd\n",
    "from glob import glob"
   ]
  },
  {
   "cell_type": "code",
   "execution_count": 31,
   "metadata": {},
   "outputs": [],
   "source": [
    "filenames = sorted(glob(os.path.join('data','flightdelays', '*.csv')))"
   ]
  },
  {
   "cell_type": "code",
   "execution_count": 34,
   "metadata": {},
   "outputs": [
    {
     "name": "stdout",
     "output_type": "stream",
     "text": [
      "CPU times: user 1.27 s, sys: 0 ns, total: 1.27 s\n",
      "Wall time: 1.49 s\n"
     ]
    }
   ],
   "source": [
    "%%time\n",
    "sums = []\n",
    "counts = []\n",
    "\n",
    "for fn in filenames:\n",
    "    df = pd.read_csv(fn)\n",
    "    \n",
    "    by_origin = df.groupby('ORIGIN')\n",
    "    total = by_origin['ARR_DELAY'].sum()\n",
    "    count = by_origin['ARR_DELAY'].count()\n",
    "    \n",
    "    sums.append(total)\n",
    "    counts.append(count)\n",
    "    \n",
    "total_delays = sum(sums)\n",
    "n_flights = sum(counts)\n",
    "\n",
    "mean = total_delays / n_flights"
   ]
  },
  {
   "cell_type": "code",
   "execution_count": 35,
   "metadata": {},
   "outputs": [
    {
     "data": {
      "text/plain": [
       "ORIGIN\n",
       "ABE    -3.398964\n",
       "ABQ     2.963672\n",
       "ABR     5.645161\n",
       "ABY     0.093023\n",
       "ACK          NaN\n",
       "         ...    \n",
       "WRG    -2.500000\n",
       "WYS          NaN\n",
       "XNA     2.380165\n",
       "YAK   -14.721311\n",
       "YUM    -2.701149\n",
       "Name: ARR_DELAY, Length: 301, dtype: float64"
      ]
     },
     "execution_count": 35,
     "metadata": {},
     "output_type": "execute_result"
    }
   ],
   "source": [
    "mean"
   ]
  },
  {
   "cell_type": "code",
   "execution_count": null,
   "metadata": {},
   "outputs": [],
   "source": []
  },
  {
   "cell_type": "code",
   "execution_count": 38,
   "metadata": {},
   "outputs": [
    {
     "name": "stdout",
     "output_type": "stream",
     "text": [
      "CPU times: user 86.3 ms, sys: 0 ns, total: 86.3 ms\n",
      "Wall time: 566 ms\n"
     ]
    }
   ],
   "source": [
    "%%time\n",
    "\n",
    "from dask import compute\n",
    "sums = []\n",
    "counts = []\n",
    "\n",
    "for fn in filenames:\n",
    "    df = delayed(pd.read_csv)(fn)\n",
    "    \n",
    "    by_origin = df.groupby('ORIGIN')\n",
    "    \n",
    "    total = by_origin['ARR_DELAY'].sum()\n",
    "    count = by_origin['ARR_DELAY'].count()\n",
    "    \n",
    "    sums.append(total)\n",
    "    counts.append(count)\n",
    "    \n",
    "sums, counts = compute(sums, counts)\n",
    "    \n",
    "total_delays = sum(sums)\n",
    "n_flights = sum(counts)\n",
    "\n",
    "mean = total_delays / n_flights"
   ]
  },
  {
   "cell_type": "code",
   "execution_count": null,
   "metadata": {},
   "outputs": [],
   "source": []
  },
  {
   "cell_type": "markdown",
   "metadata": {},
   "source": [
    "### Primer: Taxi Vožnje"
   ]
  },
  {
   "cell_type": "code",
   "execution_count": 46,
   "metadata": {},
   "outputs": [],
   "source": [
    "filenames = sorted(glob(os.path.join('data','nyctaxi', '*.csv')))"
   ]
  },
  {
   "cell_type": "code",
   "execution_count": 40,
   "metadata": {},
   "outputs": [
    {
     "data": {
      "text/plain": [
       "['data/nyctaxi/yellow_tripdata_2015-01.csv',\n",
       " 'data/nyctaxi/yellow_tripdata_2015-02.csv',\n",
       " 'data/nyctaxi/yellow_tripdata_2015-03.csv']"
      ]
     },
     "execution_count": 40,
     "metadata": {},
     "output_type": "execute_result"
    }
   ],
   "source": [
    "filenames"
   ]
  },
  {
   "cell_type": "code",
   "execution_count": 48,
   "metadata": {},
   "outputs": [],
   "source": [
    "def read_file(fname):\n",
    "    return pd.read_csv(fname, parse_dates = [1,2])\n",
    "\n",
    "def count_long_trips(df):\n",
    "    df['duration'] = (df['tpep_dropoff_datetime']- df['tpep_pickup_datetime']).dt.seconds\n",
    "    is_long_trip = df['duration'] > 1200\n",
    "    result_dict = {'n_long': [sum(is_long_trip)], 'n_total': [len(df)]}\n",
    "    return pd.DataFrame(result_dict)"
   ]
  },
  {
   "cell_type": "code",
   "execution_count": 49,
   "metadata": {},
   "outputs": [
    {
     "name": "stdout",
     "output_type": "stream",
     "text": [
      "CPU times: user 733 ms, sys: 27.2 ms, total: 760 ms\n",
      "Wall time: 878 ms\n"
     ]
    }
   ],
   "source": [
    "%%time\n",
    "\n",
    "totals = []\n",
    "\n",
    "for fname in filenames:\n",
    "    temp = count_long_trips(read_file(fname))\n",
    "    totals.append(temp)\n",
    "    \n",
    "annual_total = sum(totals)"
   ]
  },
  {
   "cell_type": "code",
   "execution_count": 50,
   "metadata": {},
   "outputs": [
    {
     "data": {
      "text/html": [
       "<div>\n",
       "<style scoped>\n",
       "    .dataframe tbody tr th:only-of-type {\n",
       "        vertical-align: middle;\n",
       "    }\n",
       "\n",
       "    .dataframe tbody tr th {\n",
       "        vertical-align: top;\n",
       "    }\n",
       "\n",
       "    .dataframe thead th {\n",
       "        text-align: right;\n",
       "    }\n",
       "</style>\n",
       "<table border=\"1\" class=\"dataframe\">\n",
       "  <thead>\n",
       "    <tr style=\"text-align: right;\">\n",
       "      <th></th>\n",
       "      <th>n_long</th>\n",
       "      <th>n_total</th>\n",
       "    </tr>\n",
       "  </thead>\n",
       "  <tbody>\n",
       "    <tr>\n",
       "      <th>0</th>\n",
       "      <td>35321</td>\n",
       "      <td>201524</td>\n",
       "    </tr>\n",
       "  </tbody>\n",
       "</table>\n",
       "</div>"
      ],
      "text/plain": [
       "   n_long  n_total\n",
       "0   35321   201524"
      ]
     },
     "execution_count": 50,
     "metadata": {},
     "output_type": "execute_result"
    }
   ],
   "source": [
    "annual_total"
   ]
  },
  {
   "cell_type": "code",
   "execution_count": 51,
   "metadata": {},
   "outputs": [],
   "source": [
    "#isto kot zgoraj, samo z uporabo list comprehantions\n",
    "annual_totals = sum([count_long_trips(read_file(fname)) for fname in filenames])"
   ]
  },
  {
   "cell_type": "code",
   "execution_count": 52,
   "metadata": {},
   "outputs": [
    {
     "data": {
      "text/html": [
       "<div>\n",
       "<style scoped>\n",
       "    .dataframe tbody tr th:only-of-type {\n",
       "        vertical-align: middle;\n",
       "    }\n",
       "\n",
       "    .dataframe tbody tr th {\n",
       "        vertical-align: top;\n",
       "    }\n",
       "\n",
       "    .dataframe thead th {\n",
       "        text-align: right;\n",
       "    }\n",
       "</style>\n",
       "<table border=\"1\" class=\"dataframe\">\n",
       "  <thead>\n",
       "    <tr style=\"text-align: right;\">\n",
       "      <th></th>\n",
       "      <th>n_long</th>\n",
       "      <th>n_total</th>\n",
       "    </tr>\n",
       "  </thead>\n",
       "  <tbody>\n",
       "    <tr>\n",
       "      <th>0</th>\n",
       "      <td>35321</td>\n",
       "      <td>201524</td>\n",
       "    </tr>\n",
       "  </tbody>\n",
       "</table>\n",
       "</div>"
      ],
      "text/plain": [
       "   n_long  n_total\n",
       "0   35321   201524"
      ]
     },
     "execution_count": 52,
     "metadata": {},
     "output_type": "execute_result"
    }
   ],
   "source": [
    "annual_totals"
   ]
  },
  {
   "cell_type": "code",
   "execution_count": null,
   "metadata": {},
   "outputs": [],
   "source": []
  },
  {
   "cell_type": "markdown",
   "metadata": {},
   "source": [
    "### DASK"
   ]
  },
  {
   "cell_type": "code",
   "execution_count": 53,
   "metadata": {},
   "outputs": [],
   "source": [
    "@delayed\n",
    "def read_file(fname):\n",
    "    return pd.read_csv(fname, parse_dates = [1,2])\n",
    "\n",
    "@delayed\n",
    "def count_long_trips(df):\n",
    "    df['duration'] = (df['tpep_dropoff_datetime']- df['tpep_pickup_datetime']).dt.seconds\n",
    "    is_long_trip = df['duration'] > 1200\n",
    "    result_dict = {'n_long': [sum(is_long_trip)], 'n_total': [len(df)]}\n",
    "    return pd.DataFrame(result_dict)"
   ]
  },
  {
   "cell_type": "code",
   "execution_count": 54,
   "metadata": {},
   "outputs": [],
   "source": [
    "annual_totals = sum([count_long_trips(read_file(fname)) for fname in filenames])"
   ]
  },
  {
   "cell_type": "code",
   "execution_count": 55,
   "metadata": {},
   "outputs": [
    {
     "data": {
      "text/plain": [
       "Delayed('add-bdc564c83d81ee3c8ec73aba16631a22')"
      ]
     },
     "execution_count": 55,
     "metadata": {},
     "output_type": "execute_result"
    }
   ],
   "source": [
    "annual_totals"
   ]
  },
  {
   "cell_type": "code",
   "execution_count": 56,
   "metadata": {},
   "outputs": [
    {
     "name": "stdout",
     "output_type": "stream",
     "text": [
      "CPU times: user 23.8 ms, sys: 25.8 ms, total: 49.6 ms\n",
      "Wall time: 438 ms\n"
     ]
    },
    {
     "data": {
      "text/html": [
       "<div>\n",
       "<style scoped>\n",
       "    .dataframe tbody tr th:only-of-type {\n",
       "        vertical-align: middle;\n",
       "    }\n",
       "\n",
       "    .dataframe tbody tr th {\n",
       "        vertical-align: top;\n",
       "    }\n",
       "\n",
       "    .dataframe thead th {\n",
       "        text-align: right;\n",
       "    }\n",
       "</style>\n",
       "<table border=\"1\" class=\"dataframe\">\n",
       "  <thead>\n",
       "    <tr style=\"text-align: right;\">\n",
       "      <th></th>\n",
       "      <th>n_long</th>\n",
       "      <th>n_total</th>\n",
       "    </tr>\n",
       "  </thead>\n",
       "  <tbody>\n",
       "    <tr>\n",
       "      <th>0</th>\n",
       "      <td>35321</td>\n",
       "      <td>201524</td>\n",
       "    </tr>\n",
       "  </tbody>\n",
       "</table>\n",
       "</div>"
      ],
      "text/plain": [
       "   n_long  n_total\n",
       "0   35321   201524"
      ]
     },
     "execution_count": 56,
     "metadata": {},
     "output_type": "execute_result"
    }
   ],
   "source": [
    "%%time\n",
    "annual_totals.compute()"
   ]
  },
  {
   "cell_type": "code",
   "execution_count": null,
   "metadata": {},
   "outputs": [],
   "source": []
  },
  {
   "cell_type": "code",
   "execution_count": null,
   "metadata": {},
   "outputs": [],
   "source": []
  },
  {
   "cell_type": "code",
   "execution_count": null,
   "metadata": {},
   "outputs": [],
   "source": []
  },
  {
   "cell_type": "code",
   "execution_count": null,
   "metadata": {},
   "outputs": [],
   "source": []
  }
 ],
 "metadata": {
  "kernelspec": {
   "display_name": "Python 3",
   "language": "python",
   "name": "python3"
  },
  "language_info": {
   "codemirror_mode": {
    "name": "ipython",
    "version": 3
   },
   "file_extension": ".py",
   "mimetype": "text/x-python",
   "name": "python",
   "nbconvert_exporter": "python",
   "pygments_lexer": "ipython3",
   "version": "3.8.5"
  }
 },
 "nbformat": 4,
 "nbformat_minor": 2
}
